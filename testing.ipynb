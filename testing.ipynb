{
 "cells": [
  {
   "cell_type": "code",
   "execution_count": 4,
   "metadata": {},
   "outputs": [],
   "source": [
    "import os\n",
    "import pickle\n",
    "from glob import iglob\n",
    "import numpy as np\n",
    "import librosa\n",
    "\n",
    "# if wavs for testing are put in 'wavs' folder then:\n",
    "# TEST_DATA_AUDIO_DIR = './for_user/wavs'\n",
    "\n",
    "TEST_DATA_AUDIO_DIR = ''\n",
    "CONVERTED_DATA_DIR = './pkls'\n",
    "TARGET_SR = 8000\n",
    "AUDIO_LENGTH = 10000\n",
    "\n",
    "def read_audio_from_filename(filename, target_sr):\n",
    "    audio, _ = librosa.load(filename, sr=target_sr, mono=True)\n",
    "    audio = audio.reshape(-1, 1)\n",
    "    return audio\n",
    "\n",
    "def convert_testig_data():\n",
    "    for i, wav_filename in enumerate(iglob(os.path.join(TEST_DATA_AUDIO_DIR, '**.wav'), recursive=True)):\n",
    "        audio_buf = read_audio_from_filename(wav_filename, target_sr=TARGET_SR)\n",
    "        # normalize mean 0, variance 1\n",
    "        audio_buf = (audio_buf - np.mean(audio_buf)) / np.std(audio_buf)\n",
    "        original_length = len(audio_buf)\n",
    "        print(i, wav_filename, original_length, np.round(np.mean(audio_buf), 4), np.std(audio_buf))\n",
    "        if original_length < AUDIO_LENGTH:\n",
    "            audio_buf = np.concatenate((audio_buf, np.zeros(shape=(AUDIO_LENGTH - original_length, 1))))\n",
    "            print('PAD New length =', len(audio_buf))\n",
    "        elif original_length > AUDIO_LENGTH:\n",
    "            audio_buf = audio_buf[0:AUDIO_LENGTH]\n",
    "            print('CUT New length =', len(audio_buf))\n",
    "\n",
    "        output_folder = CONVERTED_DATA_DIR\n",
    "        output_filename = os.path.join(output_folder, str(i) + '.pkl')\n",
    "        file_name = os.path.splitext(os.path.basename(wav_filename))[0]\n",
    "        out = {'audio': audio_buf,\n",
    "               'sr': TARGET_SR,\n",
    "                'filename': file_name}\n",
    "        with open(output_filename, 'wb') as w:\n",
    "            pickle.dump(out, w)\n",
    "\n",
    "\n",
    "if __name__ == '__main__':\n",
    "    convert_testig_data()"
   ]
  },
  {
   "cell_type": "code",
   "execution_count": null,
   "metadata": {},
   "outputs": [],
   "source": [
    "MODEL_FILENAME = 'best-trained-model.hdf5'\n",
    "from glob import glob\n",
    "import pandas as pd\n",
    "\n",
    "def get_data(file_list):\n",
    "    def load_into(_filename, _x, _y):\n",
    "        with open(_filename, 'rb') as f:\n",
    "            audio_element = pickle.load(f)\n",
    "            _x.append(audio_element['audio'])\n",
    "            _y.append(audio_element['filename'])\n",
    "    x = []\n",
    "    y = []\n",
    "    for filename in file_list:\n",
    "        load_into(filename, x, y)\n",
    "    return np.array(x), np.array(y)\n",
    "\n",
    "files = glob(os.path.join(CONVERTED_DATA_DIR, '**.pkl'))\n",
    "x, indexes = get_data(files)"
   ]
  },
  {
   "cell_type": "code",
   "execution_count": null,
   "metadata": {},
   "outputs": [],
   "source": [
    "x"
   ]
  },
  {
   "cell_type": "code",
   "execution_count": null,
   "metadata": {},
   "outputs": [],
   "source": [
    "indexes"
   ]
  },
  {
   "cell_type": "code",
   "execution_count": null,
   "metadata": {},
   "outputs": [],
   "source": [
    "from keras.models import load_model\n",
    "\n",
    "# model = pickle.load(open(MODEL_FILENAME, 'rb'))\n",
    "model = load_model(MODEL_FILENAME)\n",
    "# x_n = x.reshape(x.shape[0], 40, 250, 1)\n",
    "prediction = model.predict(x)\n",
    "prediction = pd.DataFrame(prediction)\n",
    "prediction"
   ]
  },
  {
   "cell_type": "code",
   "execution_count": null,
   "metadata": {},
   "outputs": [],
   "source": [
    "prediction.shape"
   ]
  },
  {
   "cell_type": "code",
   "execution_count": null,
   "metadata": {},
   "outputs": [],
   "source": [
    "indexes = pd.DataFrame(indexes)\n",
    "indexes"
   ]
  },
  {
   "cell_type": "code",
   "execution_count": null,
   "metadata": {},
   "outputs": [],
   "source": [
    "result = pd.concat([ pd.DataFrame(indexes),  pd.DataFrame(prediction)], axis=1)\n",
    "result"
   ]
  },
  {
   "cell_type": "code",
   "execution_count": null,
   "metadata": {},
   "outputs": [],
   "source": [
    "np.array(result)"
   ]
  },
  {
   "cell_type": "code",
   "execution_count": null,
   "metadata": {},
   "outputs": [],
   "source": [
    "# np.savetxt(\"predictions.csv\", np.array(result))\n",
    "# result.to_csv(\"predictions.csv\")\n",
    "result.to_csv('13-submission.csv', index=False)"
   ]
  },
  {
   "cell_type": "code",
   "execution_count": null,
   "metadata": {},
   "outputs": [],
   "source": [
    "check = pd.read_csv('13-submission.csv')\n",
    "check"
   ]
  },
  {
   "cell_type": "code",
   "execution_count": null,
   "metadata": {},
   "outputs": [],
   "source": []
  }
 ],
 "metadata": {
  "kernelspec": {
   "display_name": "Python 3",
   "language": "python",
   "name": "python3"
  },
  "language_info": {
   "codemirror_mode": {
    "name": "ipython",
    "version": 3
   },
   "file_extension": ".py",
   "mimetype": "text/x-python",
   "name": "python",
   "nbconvert_exporter": "python",
   "pygments_lexer": "ipython3",
   "version": "3.7.4"
  }
 },
 "nbformat": 4,
 "nbformat_minor": 2
}
